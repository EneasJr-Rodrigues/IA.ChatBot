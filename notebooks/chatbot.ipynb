{
 "cells": [
  {
   "cell_type": "markdown",
   "id": "b24e0d36",
   "metadata": {},
   "source": [
    "#### DataSet Downloads"
   ]
  },
  {
   "cell_type": "markdown",
   "id": "88f92f07",
   "metadata": {},
   "source": [
    "https://www.kaggle.com/datasets/rajathmc/cornell-moviedialog-corpus"
   ]
  },
  {
   "cell_type": "markdown",
   "id": "07643a27",
   "metadata": {},
   "source": [
    "#### Arquivos Usados\n",
    "* movie_lines.txt\n",
    "* movie_conversations.txt"
   ]
  },
  {
   "cell_type": "code",
   "execution_count": 1,
   "id": "c3db648a",
   "metadata": {},
   "outputs": [
    {
     "name": "stderr",
     "output_type": "stream",
     "text": [
      "2023-06-23 20:27:32.273906: I tensorflow/tsl/cuda/cudart_stub.cc:28] Could not find cuda drivers on your machine, GPU will not be used.\n",
      "2023-06-23 20:27:32.318886: I tensorflow/tsl/cuda/cudart_stub.cc:28] Could not find cuda drivers on your machine, GPU will not be used.\n",
      "2023-06-23 20:27:32.319862: I tensorflow/core/platform/cpu_feature_guard.cc:182] This TensorFlow binary is optimized to use available CPU instructions in performance-critical operations.\n",
      "To enable the following instructions: AVX2 FMA, in other operations, rebuild TensorFlow with the appropriate compiler flags.\n",
      "2023-06-23 20:27:33.052157: W tensorflow/compiler/tf2tensorrt/utils/py_utils.cc:38] TF-TRT Warning: Could not find TensorRT\n"
     ]
    }
   ],
   "source": [
    "import numpy as np\n",
    "import tensorflow as tf\n",
    "import re\n",
    "import time\n",
    "import pandas as pd"
   ]
  },
  {
   "cell_type": "markdown",
   "id": "992705e6",
   "metadata": {},
   "source": [
    "### Pré Processamento da Base"
   ]
  },
  {
   "cell_type": "code",
   "execution_count": 2,
   "id": "59d10c87",
   "metadata": {},
   "outputs": [],
   "source": [
    "path_root = '/opt/dna/chat_bot/datalake/transient/'\n",
    "filename = 'movie_lines.txt'\n",
    "linhas = open(path_root + filename, encoding='utf-8').read().split('\\n')"
   ]
  },
  {
   "cell_type": "code",
   "execution_count": 3,
   "id": "b14cd0b0",
   "metadata": {},
   "outputs": [
    {
     "data": {
      "text/plain": [
       "['L1045 +++$+++ u0 +++$+++ m0 +++$+++ BIANCA +++$+++ They do not!',\n",
       " 'L1044 +++$+++ u2 +++$+++ m0 +++$+++ CAMERON +++$+++ They do to!',\n",
       " 'L985 +++$+++ u0 +++$+++ m0 +++$+++ BIANCA +++$+++ I hope so.',\n",
       " 'L984 +++$+++ u2 +++$+++ m0 +++$+++ CAMERON +++$+++ She okay?',\n",
       " \"L925 +++$+++ u0 +++$+++ m0 +++$+++ BIANCA +++$+++ Let's go.\",\n",
       " 'L924 +++$+++ u2 +++$+++ m0 +++$+++ CAMERON +++$+++ Wow',\n",
       " \"L872 +++$+++ u0 +++$+++ m0 +++$+++ BIANCA +++$+++ Okay -- you're gonna need to learn how to lie.\",\n",
       " 'L871 +++$+++ u2 +++$+++ m0 +++$+++ CAMERON +++$+++ No',\n",
       " 'L870 +++$+++ u0 +++$+++ m0 +++$+++ BIANCA +++$+++ I\\'m kidding.  You know how sometimes you just become this \"persona\"?  And you don\\'t know how to quit?',\n",
       " 'L869 +++$+++ u0 +++$+++ m0 +++$+++ BIANCA +++$+++ Like my fear of wearing pastels?']"
      ]
     },
     "execution_count": 3,
     "metadata": {},
     "output_type": "execute_result"
    }
   ],
   "source": [
    "linhas[:10]"
   ]
  },
  {
   "cell_type": "code",
   "execution_count": 4,
   "id": "958bb5b1",
   "metadata": {},
   "outputs": [
    {
     "data": {
      "text/plain": [
       "304714"
      ]
     },
     "execution_count": 4,
     "metadata": {},
     "output_type": "execute_result"
    }
   ],
   "source": [
    "len(linhas)"
   ]
  },
  {
   "cell_type": "code",
   "execution_count": 5,
   "id": "8a232573",
   "metadata": {},
   "outputs": [],
   "source": [
    "path_root = '/opt/dna/chat_bot/datalake/transient/'\n",
    "filename = 'movie_conversations.txt'\n",
    "conversas = open(path_root + filename, encoding='utf-8').read().split('\\n')"
   ]
  },
  {
   "cell_type": "code",
   "execution_count": 6,
   "id": "46c19d04",
   "metadata": {},
   "outputs": [
    {
     "data": {
      "text/plain": [
       "[\"u0 +++$+++ u2 +++$+++ m0 +++$+++ ['L194', 'L195', 'L196', 'L197']\",\n",
       " \"u0 +++$+++ u2 +++$+++ m0 +++$+++ ['L198', 'L199']\",\n",
       " \"u0 +++$+++ u2 +++$+++ m0 +++$+++ ['L200', 'L201', 'L202', 'L203']\",\n",
       " \"u0 +++$+++ u2 +++$+++ m0 +++$+++ ['L204', 'L205', 'L206']\",\n",
       " \"u0 +++$+++ u2 +++$+++ m0 +++$+++ ['L207', 'L208']\",\n",
       " \"u0 +++$+++ u2 +++$+++ m0 +++$+++ ['L271', 'L272', 'L273', 'L274', 'L275']\",\n",
       " \"u0 +++$+++ u2 +++$+++ m0 +++$+++ ['L276', 'L277']\",\n",
       " \"u0 +++$+++ u2 +++$+++ m0 +++$+++ ['L280', 'L281']\",\n",
       " \"u0 +++$+++ u2 +++$+++ m0 +++$+++ ['L363', 'L364']\",\n",
       " \"u0 +++$+++ u2 +++$+++ m0 +++$+++ ['L365', 'L366']\"]"
      ]
     },
     "execution_count": 6,
     "metadata": {},
     "output_type": "execute_result"
    }
   ],
   "source": [
    "conversas[:10]"
   ]
  },
  {
   "cell_type": "code",
   "execution_count": 7,
   "id": "d68ea3a2",
   "metadata": {},
   "outputs": [
    {
     "data": {
      "text/plain": [
       "83098"
      ]
     },
     "execution_count": 7,
     "metadata": {},
     "output_type": "execute_result"
    }
   ],
   "source": [
    "len(conversas)"
   ]
  },
  {
   "cell_type": "code",
   "execution_count": 21,
   "id": "acd54e14",
   "metadata": {},
   "outputs": [],
   "source": [
    "id_para_linha = {}\n",
    "for linha in linhas:\n",
    "    _linha = linha.split(' +++$+++ ')\n",
    "    if len(_linha) == 5:\n",
    "        id_para_linha[_linha[0]] = _linha[4]"
   ]
  },
  {
   "cell_type": "code",
   "execution_count": 65,
   "id": "56b75c4f",
   "metadata": {},
   "outputs": [
    {
     "data": {
      "text/plain": [
       "'Can we make this quick?  Roxanne Korrine and Andrew Barrett are having an incredibly horrendous public break- up on the quad.  Again.'"
      ]
     },
     "execution_count": 65,
     "metadata": {},
     "output_type": "execute_result"
    }
   ],
   "source": [
    "id_para_linha['L194']"
   ]
  },
  {
   "cell_type": "code",
   "execution_count": 66,
   "id": "6169ba72",
   "metadata": {},
   "outputs": [
    {
     "data": {
      "text/plain": [
       "\"Well, I thought we'd start with pronunciation, if that's okay with you.\""
      ]
     },
     "execution_count": 66,
     "metadata": {},
     "output_type": "execute_result"
    }
   ],
   "source": [
    "id_para_linha['L195']"
   ]
  },
  {
   "cell_type": "markdown",
   "id": "a5b5c09a",
   "metadata": {},
   "source": [
    "#### Criação das listas com todas as conversas"
   ]
  },
  {
   "cell_type": "code",
   "execution_count": 60,
   "id": "f8580f79",
   "metadata": {},
   "outputs": [],
   "source": [
    "conversas_id = []\n",
    "for conversa in conversas[:-1]:\n",
    "    _conversa = conversa.split(' +++$+++ ')[-1][1:-1].replace(\"'\",\"\").replace(\" \",\"\")\n",
    "    conversas_id.append(_conversa.split(','))"
   ]
  },
  {
   "cell_type": "code",
   "execution_count": 61,
   "id": "d6962590",
   "metadata": {},
   "outputs": [
    {
     "data": {
      "text/plain": [
       "[['L194', 'L195', 'L196', 'L197'],\n",
       " ['L198', 'L199'],\n",
       " ['L200', 'L201', 'L202', 'L203'],\n",
       " ['L204', 'L205', 'L206'],\n",
       " ['L207', 'L208'],\n",
       " ['L271', 'L272', 'L273', 'L274', 'L275'],\n",
       " ['L276', 'L277'],\n",
       " ['L280', 'L281'],\n",
       " ['L363', 'L364'],\n",
       " ['L365', 'L366']]"
      ]
     },
     "execution_count": 61,
     "metadata": {},
     "output_type": "execute_result"
    }
   ],
   "source": [
    "conversas_id[:10]"
   ]
  },
  {
   "cell_type": "markdown",
   "id": "9c57ac6c",
   "metadata": {},
   "source": [
    "#### Separação das perguntas e respostas"
   ]
  },
  {
   "cell_type": "code",
   "execution_count": 72,
   "id": "d9ab0f00",
   "metadata": {},
   "outputs": [],
   "source": [
    "perguntas = []\n",
    "respostas = []\n",
    "for conversa in conversas_id:\n",
    "    #print(conversa)\n",
    "    #print('****')\n",
    "    for i in range(len(conversa) - 1):\n",
    "        perguntas.append(id_para_linha[conversa[i]])\n",
    "        respostas.append(id_para_linha[conversa[i + 1]])"
   ]
  },
  {
   "cell_type": "code",
   "execution_count": 74,
   "id": "a4912f9e",
   "metadata": {},
   "outputs": [
    {
     "data": {
      "text/plain": [
       "['Can we make this quick?  Roxanne Korrine and Andrew Barrett are having an incredibly horrendous public break- up on the quad.  Again.',\n",
       " \"Well, I thought we'd start with pronunciation, if that's okay with you.\",\n",
       " 'Not the hacking and gagging and spitting part.  Please.',\n",
       " \"You're asking me out.  That's so cute. What's your name again?\",\n",
       " \"No, no, it's my fault -- we didn't have a proper introduction ---\",\n",
       " 'Cameron.',\n",
       " \"The thing is, Cameron -- I'm at the mercy of a particularly hideous breed of loser.  My sister.  I can't date until she does.\",\n",
       " 'Why?',\n",
       " 'Unsolved mystery.  She used to be really popular when she started high school, then it was just like she got sick of it or something.',\n",
       " 'Gosh, if only we could find Kat a boyfriend...']"
      ]
     },
     "execution_count": 74,
     "metadata": {},
     "output_type": "execute_result"
    }
   ],
   "source": [
    "perguntas[:10]"
   ]
  },
  {
   "cell_type": "code",
   "execution_count": 73,
   "id": "b08c3388",
   "metadata": {},
   "outputs": [
    {
     "data": {
      "text/plain": [
       "[\"Well, I thought we'd start with pronunciation, if that's okay with you.\",\n",
       " 'Not the hacking and gagging and spitting part.  Please.',\n",
       " \"Okay... then how 'bout we try out some French cuisine.  Saturday?  Night?\",\n",
       " 'Forget it.',\n",
       " 'Cameron.',\n",
       " \"The thing is, Cameron -- I'm at the mercy of a particularly hideous breed of loser.  My sister.  I can't date until she does.\",\n",
       " 'Seems like she could get a date easy enough...',\n",
       " 'Unsolved mystery.  She used to be really popular when she started high school, then it was just like she got sick of it or something.',\n",
       " \"That's a shame.\",\n",
       " 'Let me see what I can do.']"
      ]
     },
     "execution_count": 73,
     "metadata": {},
     "output_type": "execute_result"
    }
   ],
   "source": [
    "respostas[:10]"
   ]
  },
  {
   "cell_type": "code",
   "execution_count": 75,
   "id": "0cafad29",
   "metadata": {},
   "outputs": [
    {
     "data": {
      "text/plain": [
       "(221616, 221616)"
      ]
     },
     "execution_count": 75,
     "metadata": {},
     "output_type": "execute_result"
    }
   ],
   "source": [
    "len(perguntas), len(respostas)"
   ]
  },
  {
   "cell_type": "code",
   "execution_count": null,
   "id": "cd0d2013",
   "metadata": {},
   "outputs": [],
   "source": []
  }
 ],
 "metadata": {
  "kernelspec": {
   "display_name": "Python 3 (ipykernel)",
   "language": "python",
   "name": "python3"
  },
  "language_info": {
   "codemirror_mode": {
    "name": "ipython",
    "version": 3
   },
   "file_extension": ".py",
   "mimetype": "text/x-python",
   "name": "python",
   "nbconvert_exporter": "python",
   "pygments_lexer": "ipython3",
   "version": "3.10.11"
  }
 },
 "nbformat": 4,
 "nbformat_minor": 5
}
